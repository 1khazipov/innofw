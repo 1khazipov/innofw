{
 "cells": [
  {
   "cell_type": "code",
   "execution_count": 3,
   "metadata": {},
   "outputs": [
    {
     "name": "stderr",
     "output_type": "stream",
     "text": [
      "/home/albert/miniconda3/envs/innofw/lib/python3.9/site-packages/tqdm/auto.py:22: TqdmWarning: IProgress not found. Please update jupyter and ipywidgets. See https://ipywidgets.readthedocs.io/en/stable/user_install.html\n",
      "  from .autonotebook import tqdm as notebook_tqdm\n"
     ]
    },
    {
     "name": "stdout",
     "output_type": "stream",
     "text": [
      "2023-04-26 14:22:17,151 - rdkit - INFO - Enabling RDKit 2022.09.1 jupyter extensions\n",
      "2023-04-26 14:22:17,209 - h5py._conv - DEBUG - Creating converter from 7 to 5\n",
      "2023-04-26 14:22:17,210 - h5py._conv - DEBUG - Creating converter from 5 to 7\n",
      "2023-04-26 14:22:17,210 - h5py._conv - DEBUG - Creating converter from 7 to 5\n",
      "2023-04-26 14:22:17,211 - h5py._conv - DEBUG - Creating converter from 5 to 7\n",
      "2023-04-26 14:22:17,242 - rasterio.env - DEBUG - GDAL data found in package: path='/home/albert/miniconda3/envs/innofw/lib/python3.9/site-packages/rasterio/gdal_data'.\n",
      "2023-04-26 14:22:17,243 - rasterio.env - DEBUG - PROJ data found in package: path='/home/albert/miniconda3/envs/innofw/lib/python3.9/site-packages/rasterio/proj_data'.\n",
      "2023-04-26 14:22:17,265 - shapely.geos - DEBUG - Found GEOS DLL: <CDLL '/home/albert/miniconda3/envs/innofw/lib/python3.9/site-packages/Shapely.libs/libgeos_c-c8ec7514.so.1.16.1', handle 7eaad60 at 0x7fee1f184c10>, using it.\n"
     ]
    }
   ],
   "source": [
    "from innofw.utils.config import read_cfg\n",
    "from innofw.core.datasets.segmentation import SegmentationDataset\n",
    "from innofw.core.datamodules.lightning_datamodules.segmentation_dir import DirSegmentationLightningDataModule"
   ]
  },
  {
   "cell_type": "code",
   "execution_count": 4,
   "metadata": {},
   "outputs": [],
   "source": [
    "dm = read_cfg('config/datasets/semantic-segmentation/lung_segmentation.yaml')"
   ]
  },
  {
   "cell_type": "code",
   "execution_count": 5,
   "metadata": {},
   "outputs": [],
   "source": [
    "dm.setup('train')"
   ]
  },
  {
   "cell_type": "code",
   "execution_count": 11,
   "metadata": {},
   "outputs": [
    {
     "data": {
      "text/plain": [
       "'/innofw/shm/train/image'"
      ]
     },
     "execution_count": 11,
     "metadata": {},
     "output_type": "execute_result"
    }
   ],
   "source": [
    "import os\n",
    "os.path.join('/innofw/shm/train', \"image\")"
   ]
  },
  {
   "cell_type": "code",
   "execution_count": null,
   "metadata": {},
   "outputs": [],
   "source": []
  }
 ],
 "metadata": {
  "kernelspec": {
   "display_name": "innofw",
   "language": "python",
   "name": "python3"
  },
  "language_info": {
   "codemirror_mode": {
    "name": "ipython",
    "version": 3
   },
   "file_extension": ".py",
   "mimetype": "text/x-python",
   "name": "python",
   "nbconvert_exporter": "python",
   "pygments_lexer": "ipython3",
   "version": "3.9.16"
  },
  "orig_nbformat": 4
 },
 "nbformat": 4,
 "nbformat_minor": 2
}
